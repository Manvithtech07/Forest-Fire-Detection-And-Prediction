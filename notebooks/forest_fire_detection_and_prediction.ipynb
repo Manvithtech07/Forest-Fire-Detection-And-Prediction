{
  "nbformat": 4,
  "nbformat_minor": 0,
  "metadata": {
    "colab": {
      "provenance": [],
      "authorship_tag": "ABX9TyPnR2WojotKD2UTx3/b2yBw",
      "include_colab_link": true
    },
    "kernelspec": {
      "name": "python3",
      "display_name": "Python 3"
    },
    "language_info": {
      "name": "python"
    }
  },
  "cells": [
    {
      "cell_type": "markdown",
      "metadata": {
        "id": "view-in-github",
        "colab_type": "text"
      },
      "source": [
        "<a href=\"https://colab.research.google.com/github/Manvithtech07/Forest-Fire-Detection-And-Prediction-Using-Satellite-Imagery/blob/main/notebooks/forest_fire_detection_and_prediction.ipynb\" target=\"_parent\"><img src=\"https://colab.research.google.com/assets/colab-badge.svg\" alt=\"Open In Colab\"/></a>"
      ]
    },
    {
      "cell_type": "code",
      "execution_count": null,
      "metadata": {
        "id": "TJP3lPcDBstL"
      },
      "outputs": [],
      "source": []
    }
  ]
}